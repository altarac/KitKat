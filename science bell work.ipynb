{
 "cells": [
  {
   "cell_type": "code",
   "execution_count": 26,
   "metadata": {},
   "outputs": [],
   "source": [
    "from selenium import webdriver\n",
    "from selenium.webdriver.common.keys import Keys\n",
    "from selenium.webdriver.support.ui import Select\n",
    "import time\n",
    "import pandas as pd\n",
    "from random import choice\n",
    "\n",
    "df = {\n",
    "    'cells': [\"Which parts of an animal's body are made of cells?\",\n",
    "              \"Which parts of plants are made of cells?\",\n",
    "              \"What would a biologist see if they examined a small piece of a leaf from a plant and a small piece of a root from the same plant through a microscope?\",\n",
    "              \"Are different cells always the same size? Explain your answer.\",\n",
    "              \"Which of the following parts of an animal's body are made of cells? \\n A. The skin, but not the lungs \\n B. The lungs, but not the skin \\n C. Both the skin and lungs \\n D. Neither the lungs nor the skin\",\n",
    "              \"give a numeriacl range of the number of cells that living organisms (from the smallest to the largest) can be made of? Explain your answer\",\n",
    "              \"How do small molecules such as amino acids, fatty acids, and simple sugars enter a cell?\",\n",
    "              \"What can be found inside of an animal cell?\",\n",
    "              \"Describe the inside of a plant cell\",\n",
    "              \"Describe the relationship between cells and the organism they are part of\",\n",
    "              \"Describe muscle cells.\",\n",
    "              \"Mushrooms are multicellular living organisms. What do cells of mushrooms need to function?\",\n",
    "              \"Bacteria are single-celled, microscopically small organisms.  What do they need to function?\",\n",
    "              \"What is the function of nerve cells\",\n",
    "              \"Fully-grown adults are much larger in size than young children.  What happens to the cells of the body during the growth of a child?\",\n",
    "              \"What is the function of red blood cells?\",\n",
    "              \"What parts of the body can eventually grow from a single fertilized egg cell?\"\n",
    "             ],\n",
    "    \n",
    "    'evolution': [\"Scientists have found similarities and differences when they have compared extinct and existing species. Explain why.\",\n",
    "                  \"Why are fossils important?\",\n",
    "                  \"Describe the following statement: Many species have become extinct throughout the history of life on earth.\",\n",
    "                  \"The term 'fossil' refers to which of the following? A bone in which the original matter has been replaced by rock or an impression left by a bone in rock?\",\n",
    "                  \"Describe some similarities and differences between a cow and a Tyrannosaurus rex (T. rex)?\",\n",
    "                  \"Most species living today did not exist at the time life began. Wxplain this statement.\",\n",
    "                  \"How have past environmental conditions changed on earth?\",\n",
    "                  \"Give example of how Earth's physical environment could change suddenly or gradually.\",\n",
    "                  \"How environmental conditions have changed since the time life began on earth?\",\n",
    "                  \"How do changes in the environment affect the traits in living species?\",\n",
    "                  \"Some of the individual members of a species of organism were moved to a new location that had different environmental conditions than their original location.  According to the theory of natural selection, what could happen after many generations to the descendants of the organisms that had been relocated?\",\n",
    "                  \"Moths are a type of insect similar to butterflies.  A species of moth lived in a forest made up of a mixture of dark- and light-colored trees.  Some of the moths were dark-colored and some were light-colored. The coloring of these moths is inherited from parent to offspring. The dark moths were hidden from predators on the dark trees, and the light moths were hidden on the light trees. When the light-colored trees were killed by a disease, the forest was suddenly made up almost entirely of dark-colored trees.  Generations later, almost all the moths had the dark coloring. Explain why\",              \n",
    "                  \"A species of bird ate many types of seeds, each type coming from a different species of tree.  The birds' beaks varied in size, with some individuals having slightly smaller beaks and others having slightly larger beaks. A few years went by without much rain, and the only species of tree that survived had large seeds.  Many generations later, almost all the birds had the slightly larger beaks.  How is this best explained?\",\n",
    "                  \"A population is a group of individuals of the same species. Can the percent of individuals with certain traits in a population change because the environment changes? Explain.\",\n",
    "                  \"According to the theory of natural selection, what would happen to a species of lizards when a new predator is introduced into the environment where the lizards live?\",\n",
    "                  \"A population is a group of individuals of the same species.  Could a population living today differ from their ancestors from many generations ago?\",\n",
    "                  \"Describe how a population of bacteria becomes resistant to an antibiotic?\"\n",
    "                ]\n",
    "    \n",
    "    \n",
    "    \n",
    "}\n"
   ]
  },
  {
   "cell_type": "code",
   "execution_count": 32,
   "metadata": {},
   "outputs": [
    {
     "name": "stdout",
     "output_type": "stream",
     "text": [
      "Give example of how Earth's physical environment could change suddenly or gradually.\n"
     ]
    }
   ],
   "source": [
    "print(choice(df['evolution']))"
   ]
  },
  {
   "cell_type": "code",
   "execution_count": 25,
   "metadata": {},
   "outputs": [
    {
     "ename": "NameError",
     "evalue": "name 'choice' is not defined",
     "output_type": "error",
     "traceback": [
      "\u001b[0;31m---------------------------------------------------------------------------\u001b[0m",
      "\u001b[0;31mNameError\u001b[0m                                 Traceback (most recent call last)",
      "\u001b[0;32m<ipython-input-25-11b3bb509e44>\u001b[0m in \u001b[0;36m<module>\u001b[0;34m()\u001b[0m\n\u001b[0;32m----> 1\u001b[0;31m \u001b[0mchoice\u001b[0m\u001b[0;34m(\u001b[0m\u001b[0;34m[\u001b[0m\u001b[0;36m2\u001b[0m\u001b[0;34m,\u001b[0m \u001b[0;36m3\u001b[0m\u001b[0;34m,\u001b[0m \u001b[0;36m4\u001b[0m\u001b[0;34m]\u001b[0m\u001b[0;34m)\u001b[0m\u001b[0;34m\u001b[0m\u001b[0m\n\u001b[0m",
      "\u001b[0;31mNameError\u001b[0m: name 'choice' is not defined"
     ]
    }
   ],
   "source": [
    "choice([2, 3, 4])"
   ]
  },
  {
   "cell_type": "code",
   "execution_count": null,
   "metadata": {},
   "outputs": [],
   "source": []
  }
 ],
 "metadata": {
  "kernelspec": {
   "display_name": "Python 3",
   "language": "python",
   "name": "python3"
  },
  "language_info": {
   "codemirror_mode": {
    "name": "ipython",
    "version": 3
   },
   "file_extension": ".py",
   "mimetype": "text/x-python",
   "name": "python",
   "nbconvert_exporter": "python",
   "pygments_lexer": "ipython3",
   "version": "3.6.4"
  }
 },
 "nbformat": 4,
 "nbformat_minor": 2
}
