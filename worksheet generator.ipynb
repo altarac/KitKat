{
 "cells": [
  {
   "cell_type": "code",
   "execution_count": 367,
   "metadata": {},
   "outputs": [],
   "source": [
    "from sympy import *\n",
    "import string\n",
    "from random import randint, shuffle, choice\n",
    "import numpy as np\n",
    "from sympy import init_printing\n",
    "init_printing()\n",
    "from sympy.parsing.sympy_parser import *\n",
    "from sympy import sympify\n",
    "x, y, z = symbols('x y z')\n",
    "\n",
    "class Questions():\n",
    "    \n",
    "    def __init__(self, title=''):\n",
    "        self.title = title\n",
    "    \n",
    "    def make(self):\n",
    "        terms = []\n",
    "        qs = []\n",
    "        instructions = str(input('What are the instructions? ')) # simplifiy the following\n",
    "        l = str(input('comma separated variables: ')).split(', ')\n",
    "        s=symbols(l)\n",
    "\n",
    "        n = int(input('how many questions?' ))\n",
    "        max_size_of_coef =int(input('max size of coef: '))\n",
    "        max_size_of_degree =int(input('max size of degree: '))\n",
    "        num_of_terms = int(input('how many terms? '))\n",
    "        print('\\n')\n",
    "\n",
    "        for x in range(n):\n",
    "            terms = []\n",
    "            for i in range(len(s)):\n",
    "\n",
    "                if num_of_terms == 0:\n",
    "                    pass\n",
    "                else:\n",
    "                    for j in range(0, num_of_terms):\n",
    "                        terms.append(str((randint(1,max_size_of_coef)) * s[i] ** randint(1,max_size_of_degree)))\n",
    "                    expr = '+'.join((terms))\n",
    "            a = expr.split('+')\n",
    "\n",
    "            shuffle(a)\n",
    "\n",
    "            qs.append('+'.join(a))\n",
    "            \n",
    "        for index, q in enumerate(qs):\n",
    "            \n",
    "            print('Question ' + str(index+1) + ': ' + instructions)\n",
    "            pprint(sympify(q, evaluate=False))\n",
    "            print('\\n')\n",
    "        \n",
    "        print('----- \\n -----')\n",
    "        \n",
    "        for index, q in enumerate(qs):\n",
    "            print('Solution ' + str(index+1) + ': ')\n",
    "            pprint(simplify(q))\n",
    "            print('\\n')\n",
    "\n",
    "            "
   ]
  },
  {
   "cell_type": "code",
   "execution_count": 368,
   "metadata": {},
   "outputs": [],
   "source": [
    "a = Questions()"
   ]
  },
  {
   "cell_type": "code",
   "execution_count": 397,
   "metadata": {},
   "outputs": [
    {
     "name": "stdout",
     "output_type": "stream",
     "text": [
      "What are the instructions? Group like terms\n",
      "comma separated variables: t, s, f\n",
      "how many questions?12\n",
      "max size of coef: 10\n",
      "max size of degree: 2\n",
      "how many terms? 3\n",
      "\n",
      "\n",
      "Question 1: Group like terms\n",
      "   2                  2       2                        \n",
      "7⋅f  + 3⋅f + 7⋅f + 3⋅s  + 10⋅s  + 8⋅s + 3⋅t + 8⋅t + 8⋅t\n",
      "\n",
      "\n",
      "Question 2: Group like terms\n",
      "   2       2            2      2            2      2      \n",
      "5⋅f  + 10⋅f  + 9⋅f + 5⋅s  + 9⋅s  + 2⋅s + 3⋅t  + 6⋅t  + 6⋅t\n",
      "\n",
      "\n",
      "Question 3: Group like terms\n",
      "   2                   2                   2       2      \n",
      "4⋅f  + 3⋅f + 9⋅f + 10⋅s  + 7⋅s + 9⋅s + 10⋅t  + 10⋅t  + 3⋅t\n",
      "\n",
      "\n",
      "Question 4: Group like terms\n",
      "   2      2      2                        2      2      \n",
      "4⋅f  + 4⋅f  + 7⋅f  + 3⋅s + 5⋅s + 8⋅s + 2⋅t  + 9⋅t  + 2⋅t\n",
      "\n",
      "\n",
      "Question 5: Group like terms\n",
      "   2      2            2       2          2      2      2\n",
      "5⋅f  + 5⋅f  + 2⋅f + 5⋅s  + 10⋅s  + 8⋅s + t  + 4⋅t  + 5⋅t \n",
      "\n",
      "\n",
      "Question 6: Group like terms\n",
      " 2      2      2      2                  2      2      \n",
      "f  + 4⋅f  + 4⋅f  + 5⋅s  + 4⋅s + 5⋅s + 3⋅t  + 5⋅t  + 3⋅t\n",
      "\n",
      "\n",
      "Question 7: Group like terms\n",
      " 2       2                               2            \n",
      "f  + 10⋅f  + 6⋅f + 3⋅s + 3⋅s + 9⋅s + 10⋅t  + 4⋅t + 7⋅t\n",
      "\n",
      "\n",
      "Question 8: Group like terms\n",
      "   2                  2                  2       2      \n",
      "2⋅f  + 7⋅f + 9⋅f + 4⋅s  + 2⋅s + 6⋅s + 2⋅t  + 10⋅t  + 4⋅t\n",
      "\n",
      "\n",
      "Question 9: Group like terms\n",
      "   2      2            2                   2            \n",
      "2⋅f  + 6⋅f  + 6⋅f + 6⋅s  + 2⋅s + 6⋅s + 10⋅t  + 4⋅t + 7⋅t\n",
      "\n",
      "\n",
      "Question 10: Group like terms\n",
      "   2      2            2      2            2      2      2\n",
      "3⋅f  + 5⋅f  + 2⋅f + 2⋅s  + 9⋅s  + 9⋅s + 3⋅t  + 5⋅t  + 8⋅t \n",
      "\n",
      "\n",
      "Question 11: Group like terms\n",
      "   2      2             2                             \n",
      "2⋅f  + 9⋅f  + 5⋅f + 10⋅s  + s + 4⋅s + 3⋅t + 4⋅t + 10⋅t\n",
      "\n",
      "\n",
      "Question 12: Group like terms\n",
      "   2                  2                              \n",
      "5⋅f  + 3⋅f + 4⋅f + 5⋅s  + 7⋅s + 9⋅s + 6⋅t + 8⋅t + 8⋅t\n",
      "\n",
      "\n",
      "----- \n",
      " -----\n",
      "Solution 1: \n",
      "   2              2             \n",
      "7⋅f  + 10⋅f + 13⋅s  + 8⋅s + 19⋅t\n",
      "\n",
      "\n",
      "Solution 2: \n",
      "    2             2            2      \n",
      "15⋅f  + 9⋅f + 14⋅s  + 2⋅s + 9⋅t  + 6⋅t\n",
      "\n",
      "\n",
      "Solution 3: \n",
      "   2              2              2      \n",
      "4⋅f  + 12⋅f + 10⋅s  + 16⋅s + 20⋅t  + 3⋅t\n",
      "\n",
      "\n",
      "Solution 4: \n",
      "    2              2      \n",
      "15⋅f  + 16⋅s + 11⋅t  + 2⋅t\n",
      "\n",
      "\n",
      "Solution 5: \n",
      "    2             2             2\n",
      "10⋅f  + 2⋅f + 15⋅s  + 8⋅s + 10⋅t \n",
      "\n",
      "\n",
      "Solution 6: \n",
      "   2      2            2      \n",
      "9⋅f  + 5⋅s  + 9⋅s + 8⋅t  + 3⋅t\n",
      "\n",
      "\n",
      "Solution 7: \n",
      "    2                    2       \n",
      "11⋅f  + 6⋅f + 15⋅s + 10⋅t  + 11⋅t\n",
      "\n",
      "\n",
      "Solution 8: \n",
      "   2             2             2      \n",
      "2⋅f  + 16⋅f + 4⋅s  + 8⋅s + 12⋅t  + 4⋅t\n",
      "\n",
      "\n",
      "Solution 9: \n",
      "   2            2             2       \n",
      "8⋅f  + 6⋅f + 6⋅s  + 8⋅s + 10⋅t  + 11⋅t\n",
      "\n",
      "\n",
      "Solution 10: \n",
      "   2             2             2\n",
      "8⋅f  + 2⋅f + 11⋅s  + 9⋅s + 16⋅t \n",
      "\n",
      "\n",
      "Solution 11: \n",
      "    2             2             \n",
      "11⋅f  + 5⋅f + 10⋅s  + 5⋅s + 17⋅t\n",
      "\n",
      "\n",
      "Solution 12: \n",
      "   2            2              \n",
      "5⋅f  + 7⋅f + 5⋅s  + 16⋅s + 22⋅t\n",
      "\n",
      "\n"
     ]
    }
   ],
   "source": [
    "a.make()"
   ]
  },
  {
   "cell_type": "code",
   "execution_count": 206,
   "metadata": {},
   "outputs": [
    {
     "name": "stdout",
     "output_type": "stream",
     "text": [
      "comma separated variables: a, c\n",
      "how many questions?2\n",
      "max size of coef: 2\n",
      "max size of degree: 2\n",
      "how many terms? 2\n",
      "\n",
      "\n",
      "Question 1: simplify the following\n",
      "         2    \n",
      "a + a + c  + c\n",
      "Solution 1: \n",
      "       2    \n",
      "2⋅a + c  + c\n",
      "\n",
      "\n",
      "Question 2: simplify the following\n",
      "a + a + 2⋅c + 2⋅c\n",
      "Solution 2: \n",
      "2⋅a + 4⋅c\n",
      "comma separated variables: w, y\n",
      "how many questions?3\n",
      "max size of coef: 3\n",
      "max size of degree: 3\n",
      "how many terms? 3\n",
      "\n",
      "\n",
      "Question 1: simplify the following\n",
      " 3    2    2    3    3      \n",
      "w  + w  + w  + y  + y  + 3⋅y\n",
      "Solution 1: \n",
      " 3      2      3      \n",
      "w  + 2⋅w  + 2⋅y  + 3⋅y\n",
      "\n",
      "\n",
      "Question 2: simplify the following\n",
      "   3    2            3          \n",
      "3⋅w  + w  + 3⋅w + 3⋅y  + y + 3⋅y\n",
      "Solution 2: \n",
      "   3    2            3      \n",
      "3⋅w  + w  + 3⋅w + 3⋅y  + 4⋅y\n",
      "\n",
      "\n",
      "Question 3: simplify the following\n",
      "   2      2          2      2      \n",
      "2⋅w  + 3⋅w  + 2⋅w + y  + 3⋅y  + 2⋅y\n",
      "Solution 3: \n",
      "   2            2      \n",
      "5⋅w  + 2⋅w + 4⋅y  + 2⋅y\n"
     ]
    }
   ],
   "source": [
    "q = [Questions() for i in range(2)]\n",
    "for z in q:\n",
    "    z.make()"
   ]
  },
  {
   "cell_type": "code",
   "execution_count": 273,
   "metadata": {},
   "outputs": [
    {
     "name": "stdout",
     "output_type": "stream",
     "text": [
      "[1, 2, 3]\n",
      "[1, 3, 2]\n"
     ]
    }
   ],
   "source": [
    "x=[1, 2, 3]\n",
    "print(x)\n",
    "shuffle(x)\n",
    "print(x)"
   ]
  },
  {
   "cell_type": "code",
   "execution_count": 306,
   "metadata": {},
   "outputs": [],
   "source": [
    "x, y =symbols('x y')"
   ]
  },
  {
   "cell_type": "code",
   "execution_count": null,
   "metadata": {},
   "outputs": [],
   "source": []
  },
  {
   "cell_type": "code",
   "execution_count": 335,
   "metadata": {},
   "outputs": [
    {
     "name": "stdout",
     "output_type": "stream",
     "text": [
      "x\n",
      "y\n"
     ]
    }
   ],
   "source": [
    "for i in symbols('x y'):\n",
    "    print(i)\n"
   ]
  },
  {
   "cell_type": "code",
   "execution_count": 348,
   "metadata": {},
   "outputs": [
    {
     "name": "stdout",
     "output_type": "stream",
     "text": [
      "[4*x**5, 2*x, 5*x, 5*x**4, 2*x**3]\n"
     ]
    },
    {
     "data": {
      "image/png": "[encoded data removed]",
      "text/latex": [
       "$$4 x^{5} + 5 x^{4} + 2 x^{3} + 7 x$$"
      ],
      "text/plain": [
       "   5      4      3      \n",
       "4⋅x  + 5⋅x  + 2⋅x  + 7⋅x"
      ]
     },
     "metadata": {},
     "output_type": "display_data"
    }
   ],
   "source": [
    "l = []\n",
    "for i in range(5):\n",
    "    l.append(randint(1,5) * x ** randint(1,5))\n",
    "\n",
    "print(l)\n",
    "\n",
    "shuffle(l)\n",
    "\n",
    "display(np.sum(l))\n"
   ]
  },
  {
   "cell_type": "code",
   "execution_count": 366,
   "metadata": {},
   "outputs": [],
   "source": [
    "from sympy import *\n",
    "import string\n",
    "from random import randint, shuffle\n",
    "import numpy as np\n",
    "from sympy import init_printing\n",
    "init_printing()\n",
    "from sympy.parsing.sympy_parser import *\n",
    "from sympy import sympify\n",
    "# x, y, z = symbols('x y z')\n",
    "\n",
    "class Questions():\n",
    "    \n",
    "    def __init__(self, title=''):\n",
    "        self.title = title\n",
    "    \n",
    "    def make(self):\n",
    "        terms = []\n",
    "        qs = []\n",
    "        instructions = str(input('What are the instructions? ')) # simplifiy the following\n",
    "        l = str(input('comma separated variables: ')).split(', ')\n",
    "        s=symbols(l)\n",
    "\n",
    "        number_of_questions = int(input('how many questions?' ))\n",
    "        max_size_of_coef =int(input('max size of coef: '))\n",
    "        max_size_of_degree =int(input('max size of degree: '))\n",
    "        num_of_terms = int(input('how many terms? '))\n",
    "        print('\\n')\n",
    "\n",
    "        for x in range(number_of_questions):\n",
    "            \n",
    "            terms = []\n",
    "            for i in range(len(s)):\n",
    "\n",
    "                if num_of_terms == 0:\n",
    "                    pass\n",
    "                else:\n",
    "                    for j in range(0, num_of_terms):\n",
    "                        terms.append((randint(1,max_size_of_coef)) * s[i] ** randint(1,max_size_of_degree))\n",
    "            \n",
    "            shuffle(terms)\n",
    "            expr = np.sum(terms)\n",
    "            qs.append(expr)\n",
    "            \n",
    "        for index, q in enumerate(qs):\n",
    "            \n",
    "            print('Question ' + str(index+1) + ': ' + instructions)\n",
    "            display((q))\n",
    "            print('\\n')\n",
    "        \n",
    "        print('----- \\n -----')\n",
    "        \n",
    "        for index, q in enumerate(qs):\n",
    "            print('Solution ' + str(index+1) + ': ')\n",
    "            display(simplify(q))\n",
    "            print('\\n')\n",
    "\n",
    "            "
   ]
  },
  {
   "cell_type": "code",
   "execution_count": 395,
   "metadata": {},
   "outputs": [],
   "source": [
    "import plotly\n",
    "import plotly.graph_objs as go\n",
    "from plotly.offline import download_plotlyjs, init_notebook_mode, plot, iplot\n",
    "import numpy as np\n",
    "\n",
    "def g():\n",
    "    x1 = randint(-10, 0)\n",
    "    y1 = randint(-10, 0)\n",
    "    x2 = randint(0, 10)\n",
    "    y2 = randint(0, 10)\n",
    "    # Create a trace\n",
    "    trace = go.Scatter(\n",
    "        x = [x1, x2],\n",
    "        y = [y1, y2]\n",
    "    )\n",
    "\n",
    "    data = [trace]\n",
    "    plotly.offline.iplot(data, filename='basic-line')"
   ]
  },
  {
   "cell_type": "code",
   "execution_count": 398,
   "metadata": {},
   "outputs": [
    {
     "data": {
      "application/vnd.plotly.v1+json": {
       "data": [
        {
         "type": "scatter",
         "uid": "4e115528-9f08-11e8-a803-32001b9b2000",
         "x": [
          -7,
          7
         ],
         "y": [
          -6,
          10
         ]
        }
       ],
       "layout": {}
      },
      "text/html": [
       "<div id=\"f6399fc2-c17d-4fe7-a119-a7ecc3976a5a\" style=\"height: 525px; width: 100%;\" class=\"plotly-graph-div\"></div><script type=\"text/javascript\">require([\"plotly\"], function(Plotly) { window.PLOTLYENV=window.PLOTLYENV || {};window.PLOTLYENV.BASE_URL=\"https://plot.ly\";Plotly.newPlot(\"f6399fc2-c17d-4fe7-a119-a7ecc3976a5a\", [{\"x\": [-7, 7], \"y\": [-6, 10], \"type\": \"scatter\", \"uid\": \"4e26513a-9f08-11e8-9679-32001b9b2000\"}], {}, {\"showLink\": true, \"linkText\": \"Export to plot.ly\"})});</script>"
      ],
      "text/vnd.plotly.v1+html": [
       "<div id=\"f6399fc2-c17d-4fe7-a119-a7ecc3976a5a\" style=\"height: 525px; width: 100%;\" class=\"plotly-graph-div\"></div><script type=\"text/javascript\">require([\"plotly\"], function(Plotly) { window.PLOTLYENV=window.PLOTLYENV || {};window.PLOTLYENV.BASE_URL=\"https://plot.ly\";Plotly.newPlot(\"f6399fc2-c17d-4fe7-a119-a7ecc3976a5a\", [{\"x\": [-7, 7], \"y\": [-6, 10], \"type\": \"scatter\", \"uid\": \"4e26513a-9f08-11e8-9679-32001b9b2000\"}], {}, {\"showLink\": true, \"linkText\": \"Export to plot.ly\"})});</script>"
      ]
     },
     "metadata": {},
     "output_type": "display_data"
    },
    {
     "data": {
      "application/vnd.plotly.v1+json": {
       "data": [
        {
         "type": "scatter",
         "uid": "4e2da662-9f08-11e8-ada2-32001b9b2000",
         "x": [
          -8,
          2
         ],
         "y": [
          -10,
          9
         ]
        }
       ],
       "layout": {}
      },
      "text/html": [
       "<div id=\"8354a7f8-bb02-4f55-bb22-713615f63b5f\" style=\"height: 525px; width: 100%;\" class=\"plotly-graph-div\"></div><script type=\"text/javascript\">require([\"plotly\"], function(Plotly) { window.PLOTLYENV=window.PLOTLYENV || {};window.PLOTLYENV.BASE_URL=\"https://plot.ly\";Plotly.newPlot(\"8354a7f8-bb02-4f55-bb22-713615f63b5f\", [{\"x\": [-8, 2], \"y\": [-10, 9], \"type\": \"scatter\", \"uid\": \"4e3520c0-9f08-11e8-9827-32001b9b2000\"}], {}, {\"showLink\": true, \"linkText\": \"Export to plot.ly\"})});</script>"
      ],
      "text/vnd.plotly.v1+html": [
       "<div id=\"8354a7f8-bb02-4f55-bb22-713615f63b5f\" style=\"height: 525px; width: 100%;\" class=\"plotly-graph-div\"></div><script type=\"text/javascript\">require([\"plotly\"], function(Plotly) { window.PLOTLYENV=window.PLOTLYENV || {};window.PLOTLYENV.BASE_URL=\"https://plot.ly\";Plotly.newPlot(\"8354a7f8-bb02-4f55-bb22-713615f63b5f\", [{\"x\": [-8, 2], \"y\": [-10, 9], \"type\": \"scatter\", \"uid\": \"4e3520c0-9f08-11e8-9827-32001b9b2000\"}], {}, {\"showLink\": true, \"linkText\": \"Export to plot.ly\"})});</script>"
      ]
     },
     "metadata": {},
     "output_type": "display_data"
    },
    {
     "data": {
      "application/vnd.plotly.v1+json": {
       "data": [
        {
         "type": "scatter",
         "uid": "4e3e37a8-9f08-11e8-9f79-32001b9b2000",
         "x": [
          -3,
          4
         ],
         "y": [
          -1,
          5
         ]
        }
       ],
       "layout": {}
      },
      "text/html": [
       "<div id=\"8fa643d7-af78-489d-aec2-9c12fe6d1cc3\" style=\"height: 525px; width: 100%;\" class=\"plotly-graph-div\"></div><script type=\"text/javascript\">require([\"plotly\"], function(Plotly) { window.PLOTLYENV=window.PLOTLYENV || {};window.PLOTLYENV.BASE_URL=\"https://plot.ly\";Plotly.newPlot(\"8fa643d7-af78-489d-aec2-9c12fe6d1cc3\", [{\"x\": [-3, 4], \"y\": [-1, 5], \"type\": \"scatter\", \"uid\": \"4e449962-9f08-11e8-876a-32001b9b2000\"}], {}, {\"showLink\": true, \"linkText\": \"Export to plot.ly\"})});</script>"
      ],
      "text/vnd.plotly.v1+html": [
       "<div id=\"8fa643d7-af78-489d-aec2-9c12fe6d1cc3\" style=\"height: 525px; width: 100%;\" class=\"plotly-graph-div\"></div><script type=\"text/javascript\">require([\"plotly\"], function(Plotly) { window.PLOTLYENV=window.PLOTLYENV || {};window.PLOTLYENV.BASE_URL=\"https://plot.ly\";Plotly.newPlot(\"8fa643d7-af78-489d-aec2-9c12fe6d1cc3\", [{\"x\": [-3, 4], \"y\": [-1, 5], \"type\": \"scatter\", \"uid\": \"4e449962-9f08-11e8-876a-32001b9b2000\"}], {}, {\"showLink\": true, \"linkText\": \"Export to plot.ly\"})});</script>"
      ]
     },
     "metadata": {},
     "output_type": "display_data"
    },
    {
     "data": {
      "application/vnd.plotly.v1+json": {
       "data": [
        {
         "type": "scatter",
         "uid": "4e4e78b8-9f08-11e8-b761-32001b9b2000",
         "x": [
          -4,
          1
         ],
         "y": [
          -3,
          7
         ]
        }
       ],
       "layout": {}
      },
      "text/html": [
       "<div id=\"7e960403-42b9-4e12-80c4-ee774ee7f450\" style=\"height: 525px; width: 100%;\" class=\"plotly-graph-div\"></div><script type=\"text/javascript\">require([\"plotly\"], function(Plotly) { window.PLOTLYENV=window.PLOTLYENV || {};window.PLOTLYENV.BASE_URL=\"https://plot.ly\";Plotly.newPlot(\"7e960403-42b9-4e12-80c4-ee774ee7f450\", [{\"x\": [-4, 1], \"y\": [-3, 7], \"type\": \"scatter\", \"uid\": \"4e54da00-9f08-11e8-a524-32001b9b2000\"}], {}, {\"showLink\": true, \"linkText\": \"Export to plot.ly\"})});</script>"
      ],
      "text/vnd.plotly.v1+html": [
       "<div id=\"7e960403-42b9-4e12-80c4-ee774ee7f450\" style=\"height: 525px; width: 100%;\" class=\"plotly-graph-div\"></div><script type=\"text/javascript\">require([\"plotly\"], function(Plotly) { window.PLOTLYENV=window.PLOTLYENV || {};window.PLOTLYENV.BASE_URL=\"https://plot.ly\";Plotly.newPlot(\"7e960403-42b9-4e12-80c4-ee774ee7f450\", [{\"x\": [-4, 1], \"y\": [-3, 7], \"type\": \"scatter\", \"uid\": \"4e54da00-9f08-11e8-a524-32001b9b2000\"}], {}, {\"showLink\": true, \"linkText\": \"Export to plot.ly\"})});</script>"
      ]
     },
     "metadata": {},
     "output_type": "display_data"
    },
    {
     "data": {
      "application/vnd.plotly.v1+json": {
       "data": [
        {
         "type": "scatter",
         "uid": "4e5c16d0-9f08-11e8-a04b-32001b9b2000",
         "x": [
          0,
          10
         ],
         "y": [
          -10,
          4
         ]
        }
       ],
       "layout": {}
      },
      "text/html": [
       "<div id=\"016f7fd4-866f-4c30-9854-24991db1beb0\" style=\"height: 525px; width: 100%;\" class=\"plotly-graph-div\"></div><script type=\"text/javascript\">require([\"plotly\"], function(Plotly) { window.PLOTLYENV=window.PLOTLYENV || {};window.PLOTLYENV.BASE_URL=\"https://plot.ly\";Plotly.newPlot(\"016f7fd4-866f-4c30-9854-24991db1beb0\", [{\"x\": [0, 10], \"y\": [-10, 4], \"type\": \"scatter\", \"uid\": \"4e632486-9f08-11e8-ba17-32001b9b2000\"}], {}, {\"showLink\": true, \"linkText\": \"Export to plot.ly\"})});</script>"
      ],
      "text/vnd.plotly.v1+html": [
       "<div id=\"016f7fd4-866f-4c30-9854-24991db1beb0\" style=\"height: 525px; width: 100%;\" class=\"plotly-graph-div\"></div><script type=\"text/javascript\">require([\"plotly\"], function(Plotly) { window.PLOTLYENV=window.PLOTLYENV || {};window.PLOTLYENV.BASE_URL=\"https://plot.ly\";Plotly.newPlot(\"016f7fd4-866f-4c30-9854-24991db1beb0\", [{\"x\": [0, 10], \"y\": [-10, 4], \"type\": \"scatter\", \"uid\": \"4e632486-9f08-11e8-ba17-32001b9b2000\"}], {}, {\"showLink\": true, \"linkText\": \"Export to plot.ly\"})});</script>"
      ]
     },
     "metadata": {},
     "output_type": "display_data"
    },
    {
     "data": {
      "application/vnd.plotly.v1+json": {
       "data": [
        {
         "type": "scatter",
         "uid": "4e6c4468-9f08-11e8-8390-32001b9b2000",
         "x": [
          -4,
          6
         ],
         "y": [
          -10,
          7
         ]
        }
       ],
       "layout": {}
      },
      "text/html": [
       "<div id=\"12fe1196-a704-4931-904c-5822cb50b049\" style=\"height: 525px; width: 100%;\" class=\"plotly-graph-div\"></div><script type=\"text/javascript\">require([\"plotly\"], function(Plotly) { window.PLOTLYENV=window.PLOTLYENV || {};window.PLOTLYENV.BASE_URL=\"https://plot.ly\";Plotly.newPlot(\"12fe1196-a704-4931-904c-5822cb50b049\", [{\"x\": [-4, 6], \"y\": [-10, 7], \"type\": \"scatter\", \"uid\": \"4e78616e-9f08-11e8-9718-32001b9b2000\"}], {}, {\"showLink\": true, \"linkText\": \"Export to plot.ly\"})});</script>"
      ],
      "text/vnd.plotly.v1+html": [
       "<div id=\"12fe1196-a704-4931-904c-5822cb50b049\" style=\"height: 525px; width: 100%;\" class=\"plotly-graph-div\"></div><script type=\"text/javascript\">require([\"plotly\"], function(Plotly) { window.PLOTLYENV=window.PLOTLYENV || {};window.PLOTLYENV.BASE_URL=\"https://plot.ly\";Plotly.newPlot(\"12fe1196-a704-4931-904c-5822cb50b049\", [{\"x\": [-4, 6], \"y\": [-10, 7], \"type\": \"scatter\", \"uid\": \"4e78616e-9f08-11e8-9718-32001b9b2000\"}], {}, {\"showLink\": true, \"linkText\": \"Export to plot.ly\"})});</script>"
      ]
     },
     "metadata": {},
     "output_type": "display_data"
    },
    {
     "data": {
      "application/vnd.plotly.v1+json": {
       "data": [
        {
         "type": "scatter",
         "uid": "4e82f162-9f08-11e8-8e12-32001b9b2000",
         "x": [
          -10,
          3
         ],
         "y": [
          -3,
          2
         ]
        }
       ],
       "layout": {}
      },
      "text/html": [
       "<div id=\"1fa12e4c-2dc8-4e67-a897-7d7eb9f0402e\" style=\"height: 525px; width: 100%;\" class=\"plotly-graph-div\"></div><script type=\"text/javascript\">require([\"plotly\"], function(Plotly) { window.PLOTLYENV=window.PLOTLYENV || {};window.PLOTLYENV.BASE_URL=\"https://plot.ly\";Plotly.newPlot(\"1fa12e4c-2dc8-4e67-a897-7d7eb9f0402e\", [{\"x\": [-10, 3], \"y\": [-3, 2], \"type\": \"scatter\", \"uid\": \"4e8baac6-9f08-11e8-99a2-32001b9b2000\"}], {}, {\"showLink\": true, \"linkText\": \"Export to plot.ly\"})});</script>"
      ],
      "text/vnd.plotly.v1+html": [
       "<div id=\"1fa12e4c-2dc8-4e67-a897-7d7eb9f0402e\" style=\"height: 525px; width: 100%;\" class=\"plotly-graph-div\"></div><script type=\"text/javascript\">require([\"plotly\"], function(Plotly) { window.PLOTLYENV=window.PLOTLYENV || {};window.PLOTLYENV.BASE_URL=\"https://plot.ly\";Plotly.newPlot(\"1fa12e4c-2dc8-4e67-a897-7d7eb9f0402e\", [{\"x\": [-10, 3], \"y\": [-3, 2], \"type\": \"scatter\", \"uid\": \"4e8baac6-9f08-11e8-99a2-32001b9b2000\"}], {}, {\"showLink\": true, \"linkText\": \"Export to plot.ly\"})});</script>"
      ]
     },
     "metadata": {},
     "output_type": "display_data"
    },
    {
     "data": {
      "application/vnd.plotly.v1+json": {
       "data": [
        {
         "type": "scatter",
         "uid": "4e92a5d8-9f08-11e8-93d1-32001b9b2000",
         "x": [
          -6,
          5
         ],
         "y": [
          -10,
          9
         ]
        }
       ],
       "layout": {}
      },
      "text/html": [
       "<div id=\"68070e32-8644-4bd3-8cef-d0a777a2b2db\" style=\"height: 525px; width: 100%;\" class=\"plotly-graph-div\"></div><script type=\"text/javascript\">require([\"plotly\"], function(Plotly) { window.PLOTLYENV=window.PLOTLYENV || {};window.PLOTLYENV.BASE_URL=\"https://plot.ly\";Plotly.newPlot(\"68070e32-8644-4bd3-8cef-d0a777a2b2db\", [{\"x\": [-6, 5], \"y\": [-10, 9], \"type\": \"scatter\", \"uid\": \"4e9759fa-9f08-11e8-9ca1-32001b9b2000\"}], {}, {\"showLink\": true, \"linkText\": \"Export to plot.ly\"})});</script>"
      ],
      "text/vnd.plotly.v1+html": [
       "<div id=\"68070e32-8644-4bd3-8cef-d0a777a2b2db\" style=\"height: 525px; width: 100%;\" class=\"plotly-graph-div\"></div><script type=\"text/javascript\">require([\"plotly\"], function(Plotly) { window.PLOTLYENV=window.PLOTLYENV || {};window.PLOTLYENV.BASE_URL=\"https://plot.ly\";Plotly.newPlot(\"68070e32-8644-4bd3-8cef-d0a777a2b2db\", [{\"x\": [-6, 5], \"y\": [-10, 9], \"type\": \"scatter\", \"uid\": \"4e9759fa-9f08-11e8-9ca1-32001b9b2000\"}], {}, {\"showLink\": true, \"linkText\": \"Export to plot.ly\"})});</script>"
      ]
     },
     "metadata": {},
     "output_type": "display_data"
    },
    {
     "data": {
      "application/vnd.plotly.v1+json": {
       "data": [
        {
         "type": "scatter",
         "uid": "4e9e1008-9f08-11e8-a161-32001b9b2000",
         "x": [
          -2,
          5
         ],
         "y": [
          0,
          6
         ]
        }
       ],
       "layout": {}
      },
      "text/html": [
       "<div id=\"0b9fce54-7c83-4f5d-8f86-3230241e755a\" style=\"height: 525px; width: 100%;\" class=\"plotly-graph-div\"></div><script type=\"text/javascript\">require([\"plotly\"], function(Plotly) { window.PLOTLYENV=window.PLOTLYENV || {};window.PLOTLYENV.BASE_URL=\"https://plot.ly\";Plotly.newPlot(\"0b9fce54-7c83-4f5d-8f86-3230241e755a\", [{\"x\": [-2, 5], \"y\": [0, 6], \"type\": \"scatter\", \"uid\": \"4ea4c79a-9f08-11e8-b08c-32001b9b2000\"}], {}, {\"showLink\": true, \"linkText\": \"Export to plot.ly\"})});</script>"
      ],
      "text/vnd.plotly.v1+html": [
       "<div id=\"0b9fce54-7c83-4f5d-8f86-3230241e755a\" style=\"height: 525px; width: 100%;\" class=\"plotly-graph-div\"></div><script type=\"text/javascript\">require([\"plotly\"], function(Plotly) { window.PLOTLYENV=window.PLOTLYENV || {};window.PLOTLYENV.BASE_URL=\"https://plot.ly\";Plotly.newPlot(\"0b9fce54-7c83-4f5d-8f86-3230241e755a\", [{\"x\": [-2, 5], \"y\": [0, 6], \"type\": \"scatter\", \"uid\": \"4ea4c79a-9f08-11e8-b08c-32001b9b2000\"}], {}, {\"showLink\": true, \"linkText\": \"Export to plot.ly\"})});</script>"
      ]
     },
     "metadata": {},
     "output_type": "display_data"
    },
    {
     "data": {
      "application/vnd.plotly.v1+json": {
       "data": [
        {
         "type": "scatter",
         "uid": "4eab7cc0-9f08-11e8-8640-32001b9b2000",
         "x": [
          -4,
          1
         ],
         "y": [
          -4,
          6
         ]
        }
       ],
       "layout": {}
      },
      "text/html": [
       "<div id=\"cedd9850-1fd6-4f8b-9cf1-ad589e4d2890\" style=\"height: 525px; width: 100%;\" class=\"plotly-graph-div\"></div><script type=\"text/javascript\">require([\"plotly\"], function(Plotly) { window.PLOTLYENV=window.PLOTLYENV || {};window.PLOTLYENV.BASE_URL=\"https://plot.ly\";Plotly.newPlot(\"cedd9850-1fd6-4f8b-9cf1-ad589e4d2890\", [{\"x\": [-4, 1], \"y\": [-4, 6], \"type\": \"scatter\", \"uid\": \"4eb10c62-9f08-11e8-859b-32001b9b2000\"}], {}, {\"showLink\": true, \"linkText\": \"Export to plot.ly\"})});</script>"
      ],
      "text/vnd.plotly.v1+html": [
       "<div id=\"cedd9850-1fd6-4f8b-9cf1-ad589e4d2890\" style=\"height: 525px; width: 100%;\" class=\"plotly-graph-div\"></div><script type=\"text/javascript\">require([\"plotly\"], function(Plotly) { window.PLOTLYENV=window.PLOTLYENV || {};window.PLOTLYENV.BASE_URL=\"https://plot.ly\";Plotly.newPlot(\"cedd9850-1fd6-4f8b-9cf1-ad589e4d2890\", [{\"x\": [-4, 1], \"y\": [-4, 6], \"type\": \"scatter\", \"uid\": \"4eb10c62-9f08-11e8-859b-32001b9b2000\"}], {}, {\"showLink\": true, \"linkText\": \"Export to plot.ly\"})});</script>"
      ]
     },
     "metadata": {},
     "output_type": "display_data"
    }
   ],
   "source": [
    "for i in range (10):\n",
    "    g()"
   ]
  },
  {
   "cell_type": "code",
   "execution_count": null,
   "metadata": {},
   "outputs": [],
   "source": []
  }
 ],
 "metadata": {
  "kernelspec": {
   "display_name": "Python 3",
   "language": "python",
   "name": "python3"
  },
  "language_info": {
   "codemirror_mode": {
    "name": "ipython",
    "version": 3
   },
   "file_extension": ".py",
   "mimetype": "text/x-python",
   "name": "python",
   "nbconvert_exporter": "python",
   "pygments_lexer": "ipython3",
   "version": "3.6.4"
  }
 },
 "nbformat": 4,
 "nbformat_minor": 2
}
