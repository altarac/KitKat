{
 "cells": [
  {
   "cell_type": "code",
   "execution_count": 1,
   "metadata": {},
   "outputs": [],
   "source": [
    "q = [\"Which parts of an animal's body are made of cells?\",\n",
    "     \"Which parts of plants are made of cells?\",\n",
    "     \"What would a biologist see if she examined a small piece of a leaf from a plant and a small piece of a root from the same plant through a microscope?\",\n",
    "     \"What is TRUE about the size and shape of cells?\"\n",
    "]\n"
   ]
  },
  {
   "cell_type": "code",
   "execution_count": 2,
   "metadata": {},
   "outputs": [
    {
     "data": {
      "text/plain": [
       "'C'"
      ]
     },
     "execution_count": 2,
     "metadata": {},
     "output_type": "execute_result"
    }
   ],
   "source": [
    "q[0][1]"
   ]
  },
  {
   "cell_type": "code",
   "execution_count": 4,
   "metadata": {},
   "outputs": [
    {
     "name": "stdout",
     "output_type": "stream",
     "text": [
      "Which of the following parts of an animal's body are made of cells?\n",
      "\n",
      "The muscles, but not the brain\n",
      "The brain, but not the muscles\n",
      "Both the muscles and brain\n",
      "Neither the brain nor the muscles\n",
      "\n"
     ]
    }
   ],
   "source": [
    "print(q[0][0])"
   ]
  },
  {
   "cell_type": "code",
   "execution_count": null,
   "metadata": {},
   "outputs": [],
   "source": [
    "from textblob import TextBlob as blob\n",
    "from bs4 import BeautifulSoup as bs\n",
    "from selenium import webdriver\n",
    "from selenium.webdriver.common.keys import Keys\n",
    "from selenium.webdriver.support.ui import Select\n",
    "import time\n",
    "\n",
    "def sentiment(string):\n",
    "    text = blob(str(string))\n",
    "    print(text.sentiment.polarity*100)\n",
    "\n",
    "# chromedriver = '/Users/samuelaltarac/Desktop/python programs/chromedriver'\n",
    "browser = webdriver.Chrome(chromedriver)\n",
    "browser.get('https://twitter.com/Lyceum40302972')\n",
    "\n"
   ]
  }
 ],
 "metadata": {
  "kernelspec": {
   "display_name": "Python 3",
   "language": "python",
   "name": "python3"
  },
  "language_info": {
   "codemirror_mode": {
    "name": "ipython",
    "version": 3
   },
   "file_extension": ".py",
   "mimetype": "text/x-python",
   "name": "python",
   "nbconvert_exporter": "python",
   "pygments_lexer": "ipython3",
   "version": "3.6.4"
  }
 },
 "nbformat": 4,
 "nbformat_minor": 2
}
